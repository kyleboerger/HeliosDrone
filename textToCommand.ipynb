{
 "cells": [
  {
   "cell_type": "code",
   "execution_count": 1,
   "metadata": {},
   "outputs": [],
   "source": [
    "import os\n",
    "import requests\n"
   ]
  },
  {
   "cell_type": "code",
   "execution_count": 2,
   "metadata": {},
   "outputs": [],
   "source": [
    "model = \"VertexGemini\"\n",
    "coreID = \"<CORE_ID>\"\n",
    "API_KEY = \"<KEY>\""
   ]
  },
  {
   "cell_type": "code",
   "execution_count": 3,
   "metadata": {},
   "outputs": [],
   "source": [
    "# Define the API details\n",
    "host = \"https://genai-service.stage.commandcentral.com/app-gateway\"\n",
    "endpoint = \"/api/v2/chat\"\n",
    "url = f\"{host}{endpoint}\"\n",
    "\n",
    "headers = {\n",
    "    \"x-msi-genai-api-key\": API_KEY,\n",
    "    \"Content-Type\": \"application/json\",\n",
    "}"
   ]
  },
  {
   "cell_type": "markdown",
   "metadata": {},
   "source": [
    "## Commands and original prompt"
   ]
  },
  {
   "cell_type": "code",
   "execution_count": 4,
   "metadata": {},
   "outputs": [],
   "source": [
    "DRONE_API_COMMANDS = [\n",
    "    \"takeoff()\",\n",
    "    \"land()\",\n",
    "    \"move_forward(distance_cm)\",\n",
    "    \"move_backward(distance_cm)\",\n",
    "    \"move_left(distance_cm)\",\n",
    "    \"move_right(distance_cm)\",\n",
    "    \"move_up(distance_cm)\",\n",
    "    \"move_down(distance_cm)\",\n",
    "    \"turn_left(degrees)\",\n",
    "    \"turn_right(degrees)\",\n",
    "    \"flip()\",\n",
    "    \"go_to_xyz(x_cm, y_cm, z_cm)\", # Example: absolute position\n",
    "    \"set_speed(speed_percent)\",\n",
    "    \"hover(duration_seconds)\",\n",
    "    \"start_video_record()\",\n",
    "    \"stop_video_record()\",\n",
    "    \"take_photo()\",\n",
    "    \"emergency_stop()\",\n",
    "    \"get_battery_status()\",\n",
    "    \"get_current_position()\",\n",
    "    # Add your remaining specific drone commands here\n",
    "]"
   ]
  },
  {
   "cell_type": "code",
   "execution_count": 5,
   "metadata": {},
   "outputs": [],
   "source": [
    "start_message_content = (\n",
    "        \"You are an intelligent drone command translator. Your sole purpose is to \"\n",
    "        \"convert natural language sentences into precise drone API commands. \"\n",
    "        \"Strictly adhere to the following rules:\\n\"\n",
    "        \"1. All distance measurements (e.g., meters, feet, inches) must be converted to centimeters (cm).\\n\"\n",
    "        \"2. Angles must remain in degrees.\\n\"\n",
    "        \"3. Your output must ONLY be the API command, with no extra text, explanations, or formatting.\\n\"\n",
    "        \"4. Use only the following available API commands and their specified parameter types:\\n\" +\n",
    "        \"\\n\".join([f\"- {cmd}\" for cmd in DRONE_API_COMMANDS]) +\n",
    "        \"\\n\\nExample 1:\\nInput: Move forward by 2 meters.\\nOutput: move_forward(200)\\n\"\n",
    "        \"Example 2:\\nInput: Go up 0.5 meters.\\nOutput: move_up(50)\\n\"\n",
    "        \"Example 3:\\nInput: Turn left 45 degrees.\\nOutput: turn_left(45)\\n\"\n",
    "        \"Example 4:\\nInput: Flip the drone.\\nOutput: flip()\\n\"\n",
    "        \"Example 5:\\nInput: Move right for 1 foot.\\nOutput: move_right(30.48)\\n\" # 1 foot = 30.48 cm\n",
    "        \"Example 6:\\nInput: Land.\\nOutput: land()\\n\"\n",
    "        \"Example 7:\\nInput: start recording.\\nOutput: start_video_record()\\n\"\n",
    "        \"Example 8:\\nInput: move to 1 meter forward, 0.5 meters right, and 20 cm up from origin.\\nOutput: go_to_xyz(100, 50, 20)\\n\"\n",
    "        \"If a command cannot be clearly mapped to one of the provided API commands, output 'UNKNOWN_COMMAND'.\\n\"\n",
    ")"
   ]
  },
  {
   "cell_type": "markdown",
   "metadata": {},
   "source": [
    "## Functions"
   ]
  },
  {
   "cell_type": "code",
   "execution_count": 6,
   "metadata": {},
   "outputs": [
    {
     "name": "stdout",
     "output_type": "stream",
     "text": [
      "```\n",
      "\n"
     ]
    }
   ],
   "source": [
    "payload = {\n",
    "    \"userId\": coreID + \"@motorolasolutions.com\",\n",
    "    \"model\": model,\n",
    "    \"prompt\": start_message_content,\n",
    "}\n",
    "\n",
    "# Make the POST request\n",
    "response = requests.post(url, headers=headers, json=payload)\n",
    "data = response.json()\n",
    "# Check the response\n",
    "if response.status_code != 200:\n",
    "    print(\"Error:\", response.status_code, response.text)\n",
    "print(response.json()['msg'])\n",
    "session_id = data.get(\"sessionId\")\n"
   ]
  },
  {
   "cell_type": "code",
   "execution_count": 7,
   "metadata": {},
   "outputs": [],
   "source": [
    "# --- Function to convert user input to API command using GPT ---\n",
    "\n",
    "def get_drone_api_command(user_sentence: str, session_id: str) -> str:\n",
    "    \"\"\"\n",
    "    Takes a natural language sentence, uses a GPT model to convert it into a\n",
    "    drone API command, ensuring all measurements are in centimeters.\n",
    "\n",
    "    Args:\n",
    "        user_sentence (str): The natural language description of the drone task.\n",
    "\n",
    "    Returns:\n",
    "        str: The corresponding API command (e.g., \"move_forward(100)\") or an error message.\n",
    "    \"\"\"\n",
    "\n",
    "    payload = {\n",
    "        \"userId\": coreID + \"@motorolasolutions.com\",\n",
    "        \"model\": model,\n",
    "        \"prompt\": user_sentence,\n",
    "        \"session_id\": session_id,\n",
    "        \"system\": start_message_content\n",
    "    }\n",
    "\n",
    "    # Make the POST request\n",
    "    response = requests.post(url, headers=headers, json=payload)\n",
    "\n",
    "    # Check the response\n",
    "    if response.status_code != 200:\n",
    "        print(\"Error:\", response.status_code, response.text)\n",
    "\n",
    "    return response.json()['msg']"
   ]
  },
  {
   "cell_type": "markdown",
   "metadata": {},
   "source": [
    "## User input"
   ]
  },
  {
   "cell_type": "code",
   "execution_count": 8,
   "metadata": {},
   "outputs": [
    {
     "name": "stdout",
     "output_type": "stream",
     "text": [
      "move_forward(304.8)\n",
      "\n"
     ]
    }
   ],
   "source": [
    "# Get input from the user\n",
    "# user_task = input(\"Enter the drone task sentence: \")\n",
    "user_task = \"move forward 10 feet\"\n",
    "\n",
    "generated_command = get_drone_api_command(user_task, session_id)\n",
    "\n",
    "print(generated_command)\n"
   ]
  }
 ],
 "metadata": {
  "kernelspec": {
   "display_name": ".venv",
   "language": "python",
   "name": "python3"
  },
  "language_info": {
   "codemirror_mode": {
    "name": "ipython",
    "version": 3
   },
   "file_extension": ".py",
   "mimetype": "text/x-python",
   "name": "python",
   "nbconvert_exporter": "python",
   "pygments_lexer": "ipython3",
   "version": "3.13.5"
  }
 },
 "nbformat": 4,
 "nbformat_minor": 2
}
